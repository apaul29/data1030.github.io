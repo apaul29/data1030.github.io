{
 "cells": [
  {
   "cell_type": "markdown",
   "metadata": {},
   "source": [
    "# Detecting Fake Reviews\n",
    "\n",
    "Over the past few years, the credibility of Amazon reviews has come under scrutiny. Fake review services are being transacted by many sellers in order to improve the visibility of their products. While Amazon has recently taken moves to crack down on fake review providers and Amazon sellers who gain these fake reviews, many internet users still have not gained confidence in Amazon reviews. In this lab, we will try to identify fake reviews and train a model to detect these fraudulent evaluations.\n",
    "\n",
    "---\n",
    "## An Example: Some Type of Obscure Scientific Equipment\n",
    "\n",
    "Here we have 4 products with very similar pictures in addition to a very ugly product, all of similar prices. Perhaps there is something fishy going on here.\n",
    "\n",
    "<img src=\"images/orbital-shakers.png\" style=\"display: inline-block; max-width: 400px;\">\n",
    "---\n",
    "## The One-Review Products\n",
    "\n",
    "Here are the reviews for the one review products.\n",
    "\n",
    "### #1\n",
    "<img src=\"images/fake1.png\" style=\"display: inline-block; max-width: 400px;\">\n",
    "---\n",
    "### #2\n",
    "<img src=\"images/fake2.png\" style=\"display: inline-block; max-width: 400px;\">\n",
    "---\n",
    "### #3\n",
    "<img src=\"images/fake3.png\" style=\"display: inline-block; max-width: 400px;\">\n",
    "---\n",
    "## They are Fake!\n",
    "\n",
    "<img src=\"images/fake4.png\" style=\"display: inline-block; max-width: 400px;\">\n",
    "\n",
    "Wow! The reviews for the above 3 products are almost exact copies of those for this item that has multiple items. Whoever Kimberly Grano is even posted the same review for two products from 2 different sellers.\n",
    "\n",
    "---\n",
    "## Inception\n",
    "\n",
    "<img src=\"images/original.png\" style=\"display: inline-block; max-width: 400px;\">\n",
    "\n",
    "Even the product with multiple reviews is a fake. All of these reviews were in fact copied from the seller of the ugly product! What a ride! The good news is that we can maybe churn up a fake-review detecting model quickly, given all of these obvious signs."
   ]
  },
  {
   "cell_type": "code",
   "execution_count": null,
   "metadata": {
    "collapsed": true
   },
   "outputs": [],
   "source": []
  }
 ],
 "metadata": {
  "kernelspec": {
   "display_name": "Python 3",
   "language": "python",
   "name": "python3"
  },
  "language_info": {
   "codemirror_mode": {
    "name": "ipython",
    "version": 3
   },
   "file_extension": ".py",
   "mimetype": "text/x-python",
   "name": "python",
   "nbconvert_exporter": "python",
   "pygments_lexer": "ipython3",
   "version": "3.6.1"
  }
 },
 "nbformat": 4,
 "nbformat_minor": 2
}
