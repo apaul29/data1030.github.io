{
 "cells": [
  {
   "cell_type": "markdown",
   "metadata": {},
   "source": [
    "## Python Review\n",
    "\n",
    "Today, you will be coding a function that generates Lucas Numbers.\n",
    "\n",
    "Here is an of a well-implemented `fibonacci` function.\n",
    "It has 3 important things\n",
    "\n",
    "1. Docstrings (\"\"\"Hello\"\"\")\n",
    "2. Clear variable names (ex. fibonacci)\n",
    "3. Test cases\n"
   ]
  },
  {
   "cell_type": "code",
   "execution_count": null,
   "metadata": {
    "collapsed": true
   },
   "outputs": [],
   "source": [
    "def fibonacci(n):\n",
    "    \"\"\"Takes in an non-negative integer, n, and returns the n-th fibonacci number.\n",
    "    \"\"\"\n",
    "    # Makes sure that n is a non-negative integer\n",
    "    assert n >= 0, 'n is negative!'\n",
    "    assert isinstance(n, int), 'n is not an integer!'\n",
    "    \n",
    "    if n == 0:\n",
    "        return 0\n",
    "    if n == 1:\n",
    "        return 1\n",
    "    \n",
    "    return fibonacci(n - 1) + fibonacci(n - 2)\n",
    "\n",
    "assert fibonacci(0) == 0 # Checks the base cases\n",
    "assert fibonacci(1) == 1\n",
    "assert fibonacci(9) == 34"
   ]
  },
  {
   "cell_type": "markdown",
   "metadata": {},
   "source": [
    "__Task 1:__ Read the above code and comment out the print statements. You will implement a variant in the next part.\n",
    "\n",
    "Note: You can also test that `fibonacci` doesn't accept non-negative integers."
   ]
  },
  {
   "cell_type": "code",
   "execution_count": null,
   "metadata": {
    "scrolled": true
   },
   "outputs": [],
   "source": [
    "fibonacci(-1)\n",
    "fibonacci(3.14) # Does this line get run?"
   ]
  },
  {
   "cell_type": "markdown",
   "metadata": {},
   "source": [
    "## The Jupyter Tips Again\n",
    "\n",
    "1. command-shift-p\n",
    "2. `print()` debugging\n",
    "3. Keep your tabs minimal."
   ]
  },
  {
   "cell_type": "markdown",
   "metadata": {},
   "source": [
    "__Task 2:__ Implement the function `lucas` below. `lucas` takes in a non-negative integer $n$ and returns the $n$-th number.\n",
    "\n",
    "### From Wikipedia:\n",
    "\n",
    "Similar to the Fibonacci numbers, each Lucas number is defined to be the sum of its two immediate previous terms, thereby forming a Fibonacci integer sequence. The first two Lucas numbers are $L_0 = 2$ and $L_1 = 1$ as opposed to the first two Fibonacci numbers $F_0 = 0$ and $F_1 = 1$. Though closely related in definition, Lucas and Fibonacci numbers exhibit distinct properties.\n",
    "The Lucas numbers may thus be defined as follows:\n",
    "\n",
    "$L_{n}:={\\begin{cases}2&{\\text{if }}n=0;\\\\1&{\\text{if }}n=1;\\\\L_{n-1}+L_{n-2}&{\\text{if }}n>1.\\\\\\end{cases}}$ (where n belongs to the natural numbers)\n",
    "\n",
    "The sequence of Lucas numbers is:\n",
    "$2,\\;1,\\;3,\\;4,\\;7,\\;11,\\;18,\\;29,\\;47,\\;76,\\;123,\\;\\ldots \\;$"
   ]
  },
  {
   "cell_type": "code",
   "execution_count": null,
   "metadata": {},
   "outputs": [],
   "source": [
    "def lucas(n):\n",
    "    \"\"\"YOUR DOCSTRING HERE\n",
    "    \"\"\"\n",
    "    # YOUR ASSERT STATEMENTS\n",
    "    ### BEGIN SOLUTION\n",
    "    assert n >= 0\n",
    "    assert isinstance(n, int)\n",
    "    ### END SOLUTION\n",
    "    \n",
    "    ### BEGIN SOLUTION\n",
    "    if n == 0:\n",
    "        return 2\n",
    "    elif n == 1:\n",
    "        return 1\n",
    "    else:\n",
    "        return lucas(n - 1) + lucas(n - 2)\n",
    "    ### END SOLUTION\n",
    "\n",
    "### YOUR TEST CASES HERE\n",
    "### BEGIN SOLUTION\n",
    "assert lucas(0) == 2\n",
    "assert lucas(1) == 1\n",
    "assert lucas(8) == 47\n",
    "### END SOLUTION"
   ]
  },
  {
   "cell_type": "markdown",
   "metadata": {},
   "source": [
    "Now implement an iterative version of the Lucas numbers. This means using a\n",
    "_for loop_ instead of recursion. You will start from the first two lucas numbers\n",
    "as use those to figure out the $n$-th Lucas number."
   ]
  },
  {
   "cell_type": "code",
   "execution_count": 5,
   "metadata": {},
   "outputs": [],
   "source": [
    "def lucas_iterative(n):\n",
    "    \"\"\"YOUR DOCSTRING HERE\n",
    "    \"\"\"\n",
    "    # YOUR ASSERT STATEMENTS\n",
    "    ### BEGIN SOLUTION\n",
    "    assert n >= 0\n",
    "    assert isinstance(n, int)\n",
    "    ### END SOLUTION\n",
    "    \n",
    "    lucas_list = [2, 1]\n",
    "    # print('L_0:', lucas_list[0])\n",
    "    # print('L_1:', lucas_list[1])\n",
    "    \n",
    "    # HANDLE n = 0, n = 1 HERE\n",
    "    ### BEGIN SOLUTION\n",
    "    \n",
    "    ### END SOLUTION\n",
    "    \n",
    "    # If n >= 2\n",
    "    ### YOUR FOR LOOP HERE\n",
    "    # L_k = L_{k - 1} + L_{k - 2}\n",
    "    ### BEGIN SOLUTION\n",
    "    for k in range(2, n + 1):\n",
    "        lucas_k = lucas_list[k - 1] + lucas_list[k - 2]\n",
    "        lucas_list.append(lucas_k)\n",
    "    ### END SOLUTION\n",
    "    return lucas_list[n]\n",
    "\n",
    "\n",
    "assert lucas_iterative(0) == 2\n",
    "assert lucas_iterative(1) == 1\n",
    "assert lucas_iterative(8) == 47\n",
    "# print(lucas_iterative(100))"
   ]
  },
  {
   "cell_type": "markdown",
   "metadata": {},
   "source": [
    "## Summary\n",
    "\n",
    "### Jupyter Notebook\n",
    "1. command + shift + P\n",
    "2. `print()` debugging\n",
    "3. Keep your working space clean!\n",
    "\n",
    "### Writing Good Code\n",
    "1. Docstrings\n",
    "2. Variable names\n",
    "3. Test cases"
   ]
  }
 ],
 "metadata": {
  "kernelspec": {
   "display_name": "Python 3",
   "language": "python",
   "name": "python3"
  },
  "language_info": {
   "codemirror_mode": {
    "name": "ipython",
    "version": 3
   },
   "file_extension": ".py",
   "mimetype": "text/x-python",
   "name": "python",
   "nbconvert_exporter": "python",
   "pygments_lexer": "ipython3",
   "version": "3.6.1"
  }
 },
 "nbformat": 4,
 "nbformat_minor": 2
}
